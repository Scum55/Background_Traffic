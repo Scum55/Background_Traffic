{
 "cells": [
  {
   "cell_type": "markdown",
   "id": "d2f83432-e30c-4d38-b03d-2f3b646edf85",
   "metadata": {
    "jp-MarkdownHeadingCollapsed": true,
    "tags": []
   },
   "source": [
    "#### Import Fablib ####"
   ]
  },
  {
   "cell_type": "code",
   "execution_count": null,
   "id": "fcd90f25-6d26-448d-84fb-d95e4ed3fea1",
   "metadata": {},
   "outputs": [],
   "source": [
    "from fabrictestbed_extensions.fablib.fablib import FablibManager as fablib_manager\n",
    "import time\n",
    "fablib = fablib_manager()"
   ]
  },
  {
   "cell_type": "markdown",
   "id": "ca09d0fb-765c-4e87-8a2d-2b328582e85c",
   "metadata": {
    "jp-MarkdownHeadingCollapsed": true,
    "tags": []
   },
   "source": [
    "#### Add sink/monitor to slice ####"
   ]
  },
  {
   "cell_type": "code",
   "execution_count": null,
   "id": "0ecb74c1-0a97-4ecf-8439-2bb3e802e98c",
   "metadata": {
    "tags": []
   },
   "outputs": [],
   "source": [
    "slice_name = 'TrafficSilce'\n",
    "\n",
    "site1 = 'WASH'\n",
    "site2 = 'GPN'\n",
    "\n",
    "#names for sink/monitor nodes \n",
    "target_name = 'sink'\n",
    "monitor_name = 'monitor' \n",
    "\n",
    "#networks for sink/monitor \n",
    "snet_name='sink_net'\n",
    "mnet_name='monitor_net'\n",
    "\n",
    "#nics for sink/monitor \n",
    "sink_nic = 's_nic'\n",
    "monitor_nic = 'm_nic'"
   ]
  },
  {
   "cell_type": "code",
   "execution_count": null,
   "id": "7662e852-539f-42c4-9e47-348f9f8c75e2",
   "metadata": {},
   "outputs": [],
   "source": [
    "try:\n",
    "    #Create slice \n",
    "    slice = fablib.new_slice(name=slice_name)\n",
    "    # sink\n",
    "    sink = slice.add_node(name=target_name, site=site1)\n",
    "    s_iface  = sink.add_component(model='NIC_Basic', name=sink_nic).get_interfaces()[0]\n",
    "    s_net = slice.add_l3network(name=snet_name, interfaces=[s_iface], type='IPv6')\n",
    "    \n",
    "    #monitor \n",
    "    monitor = slice.add_node(name=monitor_name, site=site2)\n",
    "    m_iface = monitor.add_component(model='NIC_Basic',name=monitor_nic).get_interfaces()[0]\n",
    "    m_net = slice.add_l3network(name=mnet_name, interfaces=[m_iface], type='IPv6')\n",
    "    \n",
    "  \n",
    "except Exception as e:\n",
    "    print(f\"Exception: {e}\")"
   ]
  },
  {
   "cell_type": "markdown",
   "id": "c7c97b6d-f2da-4f4e-95a4-18e737851a63",
   "metadata": {
    "jp-MarkdownHeadingCollapsed": true,
    "tags": []
   },
   "source": [
    "#### Add generators ####"
   ]
  },
  {
   "cell_type": "code",
   "execution_count": null,
   "id": "1f8cef63-899b-4031-ad21-947a8f5b6212",
   "metadata": {},
   "outputs": [],
   "source": [
    "#set the number of generators for the experiment\n",
    "num_generators = 2\n",
    "#array of sites for generators to run on - 2 in this example\n",
    "g_sites = [\"TACC\",\"DALL\"]\n",
    "# could also pass in an array here if code adjusted slightly  \n",
    "g_model = 'NIC_Basic'\n",
    "\n",
    "#ubuntu not working fablib 1.3.8\n",
    "#g_image ='default_ubuntu_20' \n",
    "\n",
    "#get/contain references- reference lost after slice provisioned \n",
    "generators = []\n",
    "g_ifaces = []\n",
    "g_networks = [] \n",
    "\n",
    "# used to get reference from slice \n",
    "generator_names = []\n",
    "\n",
    "generator_iface_names = []\n",
    "\n",
    "generator_network_names =[]\n",
    " \n",
    "generators_ips = []"
   ]
  },
  {
   "cell_type": "markdown",
   "id": "e20e6a95-e80d-4f37-a58e-6ac8d689e8a4",
   "metadata": {
    "tags": []
   },
   "source": [
    "##### auto generate names #####"
   ]
  },
  {
   "cell_type": "code",
   "execution_count": null,
   "id": "ec3afb7e-cf69-4388-8269-496b91394ae0",
   "metadata": {},
   "outputs": [],
   "source": [
    "for i in range(num_generators):\n",
    "    # variables for node  \n",
    "    generator_names.append(\"generator\"+ str(i))\n",
    "    generator_iface_names.append(\"giface\" + str(i))\n",
    "    generator_network_names.append(\"gnetwork\" + str(i))"
   ]
  },
  {
   "cell_type": "code",
   "execution_count": null,
   "id": "d1a34e41-5177-4a18-b1cf-609eaf8339d4",
   "metadata": {},
   "outputs": [],
   "source": [
    "try:\n",
    "    for i in range(num_generators):        \n",
    "        # node, interface, network to slice \n",
    "        generators.append(slice.add_node(name = generator_names[i],site = g_sites[i]))\n",
    "        \n",
    "        g_ifaces.append(generators[i].add_component(model=g_model,name=generator_iface_names[i]).get_interfaces()[0])\n",
    "        \n",
    "        g_networks.append(slice.add_l3network(name=generator_network_names[i],interfaces=[g_ifaces[i]],type='IPv6'))\n",
    "        \n",
    "except Exception as e:\n",
    "    print(f\"Exception: {e}\")"
   ]
  },
  {
   "cell_type": "markdown",
   "id": "4446e698-18ed-4925-8ee2-8f2b5c37270d",
   "metadata": {
    "jp-MarkdownHeadingCollapsed": true,
    "tags": []
   },
   "source": [
    "#### submit the slice ####"
   ]
  },
  {
   "cell_type": "code",
   "execution_count": null,
   "id": "2ad554dd-cf4b-4d8a-8e79-672ee88d589e",
   "metadata": {},
   "outputs": [],
   "source": [
    "slice.submit()"
   ]
  },
  {
   "cell_type": "markdown",
   "id": "f599c6ee-386e-4bf2-b3d8-0fb8d93f387f",
   "metadata": {
    "jp-MarkdownHeadingCollapsed": true,
    "tags": []
   },
   "source": [
    "#### config for sink/monitor ####"
   ]
  },
  {
   "cell_type": "markdown",
   "id": "4346b341-74ef-43d4-8249-ffc7f019f10b",
   "metadata": {
    "jp-MarkdownHeadingCollapsed": true,
    "tags": []
   },
   "source": [
    "##### sink #####"
   ]
  },
  {
   "cell_type": "code",
   "execution_count": null,
   "id": "42eb675c-3a0a-4049-bf60-2a72373ba7df",
   "metadata": {},
   "outputs": [],
   "source": [
    "try:\n",
    "    s_net = slice.get_network(name=snet_name)\n",
    "    sink_addr = s_net.get_available_ips().pop(0)\n",
    "    sink = slice.get_node(name=target_name)\n",
    "    s_iface = sink.get_interface(network_name=snet_name)\n",
    "    s_iface.ip_addr_add(addr=sink_addr,subnet=s_net.get_subnet())\n",
    "    sink.ip_route_add(subnet=slice.get_network(name=mnet_name).get_subnet(),gateway=s_net.get_gateway())\n",
    "    \n",
    "except Exception as e:\n",
    "    print(f\"Exception: {e}\")"
   ]
  },
  {
   "cell_type": "markdown",
   "id": "fed079b2-1c24-46e5-96e2-bd2e5322b80a",
   "metadata": {
    "jp-MarkdownHeadingCollapsed": true,
    "tags": []
   },
   "source": [
    "<h5> monitor </h5>"
   ]
  },
  {
   "cell_type": "code",
   "execution_count": null,
   "id": "4920b6e4-7a6f-4b82-b818-17adbb9f1364",
   "metadata": {},
   "outputs": [],
   "source": [
    "try:\n",
    "    m_net = slice.get_network(name=mnet_name)\n",
    "    monitor_addr = m_net.get_available_ips().pop(0)\n",
    "    monitor = slice.get_node(name=monitor_name)\n",
    "    m_iface = monitor.get_interface(network_name=mnet_name)\n",
    "    m_iface.ip_addr_add(addr=monitor_addr,subnet=m_net.get_subnet())\n",
    "    monitor.ip_route_add(subnet=s_net.get_subnet(),gateway=m_net.get_gateway())\n",
    "except Exception as e:\n",
    "    print(f\"Exception: {e}\")"
   ]
  },
  {
   "cell_type": "markdown",
   "id": "b1e609bc-bc3b-468e-aa29-d90ed02d94df",
   "metadata": {
    "jp-MarkdownHeadingCollapsed": true,
    "tags": []
   },
   "source": [
    "<h4> config for generators </h4>"
   ]
  },
  {
   "cell_type": "code",
   "execution_count": null,
   "id": "d62d468d-f8d5-42b8-be6b-3f292654bb78",
   "metadata": {},
   "outputs": [],
   "source": [
    "try:\n",
    "    for i in range(num_generators): \n",
    "        cnet = slice.get_network(name=generator_network_names[i])\n",
    "        ips = cnet.get_available_ips()\n",
    "        \n",
    "        cur = slice.get_node(name=generator_names[i])\n",
    "        ciface = cur.get_interface(network_name=generator_network_names[i])\n",
    "          \n",
    "        cip = ips.pop(0)\n",
    "        generators_ips.append(cip)\n",
    "        \n",
    "        ciface.ip_addr_add(addr=cip,subnet=cnet.get_subnet())\n",
    "        \n",
    "        cur.ip_route_add(subnet=s_net.get_subnet(),gateway=cnet.get_gateway())\n",
    "        sink.ip_route_add(subnet=cnet.get_subnet(), gateway=s_net.get_gateway())\n",
    "    \n",
    "        \n",
    "except Exception as e:\n",
    "    print(f\"Exception: {e}\")"
   ]
  },
  {
   "cell_type": "markdown",
   "id": "f752e18d-21a9-4b57-8a11-e47ecdb33916",
   "metadata": {
    "jp-MarkdownHeadingCollapsed": true,
    "tags": []
   },
   "source": [
    "#### install tools for experiment ####"
   ]
  },
  {
   "cell_type": "code",
   "execution_count": null,
   "id": "5439e5e1-54d1-4dac-b219-bb610cfdf305",
   "metadata": {},
   "outputs": [],
   "source": [
    "combo = \"sudo yum install iperf3 -y\""
   ]
  },
  {
   "cell_type": "code",
   "execution_count": null,
   "id": "51084223-1314-4182-9d06-e5ddc75aa2e1",
   "metadata": {},
   "outputs": [],
   "source": [
    "sink = slice.get_node(name='sink')\n",
    "sink.execute(combo)"
   ]
  },
  {
   "cell_type": "code",
   "execution_count": null,
   "id": "0a82477b-4c24-4e2d-a652-e131de554e39",
   "metadata": {},
   "outputs": [],
   "source": [
    "for i in range(num_generators):\n",
    "    generator = slice.get_node(name=generator_names[i])\n",
    "    generator.execute(combo)"
   ]
  },
  {
   "cell_type": "markdown",
   "id": "0f49bc63-7374-459f-8db4-53c1782f55d5",
   "metadata": {
    "jp-MarkdownHeadingCollapsed": true,
    "tags": []
   },
   "source": [
    "#### configure experiment ####"
   ]
  },
  {
   "cell_type": "code",
   "execution_count": null,
   "id": "9bc798fc-8453-4914-baec-a8f03f8a82d7",
   "metadata": {},
   "outputs": [],
   "source": [
    "start_port = 5201\n",
    "num_processes = 50\n",
    "\n",
    "monitor = slice.get_node(name=\"monitor\")\n",
    "sink = slice.get_node(name=\"sink\")\n",
    "monitor_com = \"ping -c 500 \" + str(sink_addr)\n"
   ]
  },
  {
   "cell_type": "markdown",
   "id": "4ecf12b2-24cb-48ce-b7a3-0dfc62f95bd7",
   "metadata": {
    "jp-MarkdownHeadingCollapsed": true,
    "tags": []
   },
   "source": [
    "#### control ####"
   ]
  },
  {
   "cell_type": "code",
   "execution_count": null,
   "id": "ac7b0601-2953-4296-843b-cdd272b0fcbb",
   "metadata": {},
   "outputs": [],
   "source": [
    "try:\n",
    "    threads = {}\n",
    "    threads[monitor] = monitor.execute_thread(monitor_com)\n",
    "    time.sleep(10)\n",
    "    \n",
    "    res,stderr = threads[monitor].result()\n",
    "    \n",
    "except Exception as e:\n",
    "    print(f\"Exception: {e}\")"
   ]
  },
  {
   "cell_type": "markdown",
   "id": "1580c59b-1520-402d-a45f-6460777bc6c3",
   "metadata": {
    "jp-MarkdownHeadingCollapsed": true,
    "tags": []
   },
   "source": [
    "#### experimental ####"
   ]
  },
  {
   "cell_type": "code",
   "execution_count": null,
   "id": "565ac238-4b02-469f-b824-e7a4e711e05e",
   "metadata": {},
   "outputs": [],
   "source": [
    "try:\n",
    "    threads = {}\n",
    "    \n",
    "    #monitor thread pings the sink (target) contionusly \n",
    "    threads[monitor] = monitor.execute_thread(monitor_com)\n",
    "    time.sleep(10)\n",
    "    \n",
    "    #ports start on 5201 and increase based on number of processes \n",
    "    port = start_port\n",
    "    #start specified number of iperf3 processses on each of the generator nodes. \n",
    "    for i in range(num_processes):\n",
    "        for j in range(num_generators):\n",
    "            #command to be executed on the sink node\n",
    "            server_com = \"iperf3 -s -p \" + str(port) + \"&\"\n",
    "            #command to be executed on the generator node\n",
    "            client_com = \"iperf3 -c \" + str(sink_addr) + \" -n 10G -l 10240B -p \" + str(port) + \"&\"\n",
    "\n",
    "            cur_att = slice.get_node(name=generator_names[j])\n",
    "            #execute command on sink thread\n",
    "            threads[sink] = sink.execute_thread(server_com)\n",
    "            time.sleep(.75)\n",
    "            #execute command on current generator node \n",
    "            threads[generators[j]] = cur_att.execute_thread(client_com)\n",
    "            port += 1 \n",
    "            \n",
    "        \n",
    "    #wait for ping results (500 pings) \n",
    "    stdout,stderr = threads[monitor].result()\n",
    "    \n",
    "except Exception as e:\n",
    "    print(f\"Exception: {e}\")"
   ]
  },
  {
   "cell_type": "markdown",
   "id": "225377c6-ba42-4c45-81ac-900669a1ae26",
   "metadata": {
    "jp-MarkdownHeadingCollapsed": true,
    "tags": []
   },
   "source": [
    "#### process data ####"
   ]
  },
  {
   "cell_type": "code",
   "execution_count": null,
   "id": "c8dbb609-5a8c-4fd2-9c69-2763da976dd5",
   "metadata": {},
   "outputs": [],
   "source": [
    "results = []\n",
    "results.append(res)\n",
    "results.append(stdout)"
   ]
  },
  {
   "cell_type": "code",
   "execution_count": null,
   "id": "51b9503d-59b2-4e37-8a45-326eadb9e400",
   "metadata": {},
   "outputs": [],
   "source": [
    "import re\n",
    "import matplotlib.pyplot as plt\n",
    "curves = []\n",
    "for r in results:\n",
    "    data = []\n",
    "\n",
    "    for line in re.findall(\"time=.*\",r):\n",
    "        datapoint = re.findall('\\d\\.\\d+',line.rstrip())\n",
    "        toAdd = datapoint[0]\n",
    "        if isinstance(toAdd,str):\n",
    "            data.append(float(toAdd))\n",
    "    curves.append(data)\n",
    "curves[0].pop(0)\n",
    "for c in curves:\n",
    "    plt.plot(c)\n",
    "    plt.ylim(ymin=0)\n",
    "    plt.ylabel('ping times(ms)')\n",
    "    plt.xlabel('sequence')\n",
    "    plt.show()\n",
    "for c in curves:\n",
    "    plt.plot(c)\n",
    "    plt.ylim(ymin=0)\n",
    "    plt.ylabel('ping times(ms)')\n",
    "    plt.xlabel('sequence')\n",
    "plt.show()"
   ]
  },
  {
   "cell_type": "code",
   "execution_count": null,
   "id": "a10e49ad-d1c9-4317-b05a-d9079c543b64",
   "metadata": {},
   "outputs": [],
   "source": []
  }
 ],
 "metadata": {
  "kernelspec": {
   "display_name": "Python 3 (ipykernel)",
   "language": "python",
   "name": "python3"
  },
  "language_info": {
   "codemirror_mode": {
    "name": "ipython",
    "version": 3
   },
   "file_extension": ".py",
   "mimetype": "text/x-python",
   "name": "python",
   "nbconvert_exporter": "python",
   "pygments_lexer": "ipython3",
   "version": "3.9.7"
  }
 },
 "nbformat": 4,
 "nbformat_minor": 5
}
